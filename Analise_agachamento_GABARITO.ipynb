{
 "cells": [
  {
   "cell_type": "code",
   "execution_count": 1,
   "id": "e9ef7823-cd92-44a4-873b-06b20df8f236",
   "metadata": {},
   "outputs": [],
   "source": [
    "import numpy as np\n",
    "import pandas as pd\n",
    "import matplotlib.pyplot as plt\n",
    "from scipy import stats"
   ]
  },
  {
   "cell_type": "markdown",
   "id": "d6b9a80f-9ecc-4e1a-8687-fe02ea7762b2",
   "metadata": {},
   "source": [
    "# Importa os dados"
   ]
  },
  {
   "cell_type": "code",
   "execution_count": 14,
   "id": "eb186621-52c2-4d4e-af95-4d6c119f984c",
   "metadata": {},
   "outputs": [
    {
     "data": {
      "text/html": [
       "<div>\n",
       "<style scoped>\n",
       "    .dataframe tbody tr th:only-of-type {\n",
       "        vertical-align: middle;\n",
       "    }\n",
       "\n",
       "    .dataframe tbody tr th {\n",
       "        vertical-align: top;\n",
       "    }\n",
       "\n",
       "    .dataframe thead th {\n",
       "        text-align: right;\n",
       "    }\n",
       "</style>\n",
       "<table border=\"1\" class=\"dataframe\">\n",
       "  <thead>\n",
       "    <tr style=\"text-align: right;\">\n",
       "      <th></th>\n",
       "      <th>index</th>\n",
       "      <th>angulo pico joelho</th>\n",
       "      <th>angulo pico quadril</th>\n",
       "      <th>base</th>\n",
       "    </tr>\n",
       "  </thead>\n",
       "  <tbody>\n",
       "    <tr>\n",
       "      <th>0</th>\n",
       "      <td>bipodal_1.csv</td>\n",
       "      <td>119.860080</td>\n",
       "      <td>139.310524</td>\n",
       "      <td>Bipodal</td>\n",
       "    </tr>\n",
       "    <tr>\n",
       "      <th>1</th>\n",
       "      <td>bipodal_10.csv</td>\n",
       "      <td>120.259486</td>\n",
       "      <td>139.628018</td>\n",
       "      <td>Bipodal</td>\n",
       "    </tr>\n",
       "    <tr>\n",
       "      <th>2</th>\n",
       "      <td>bipodal_2.csv</td>\n",
       "      <td>120.397792</td>\n",
       "      <td>140.156718</td>\n",
       "      <td>Bipodal</td>\n",
       "    </tr>\n",
       "    <tr>\n",
       "      <th>3</th>\n",
       "      <td>bipodal_3.csv</td>\n",
       "      <td>120.165837</td>\n",
       "      <td>139.805063</td>\n",
       "      <td>Bipodal</td>\n",
       "    </tr>\n",
       "    <tr>\n",
       "      <th>4</th>\n",
       "      <td>bipodal_4.csv</td>\n",
       "      <td>119.768892</td>\n",
       "      <td>140.085221</td>\n",
       "      <td>Bipodal</td>\n",
       "    </tr>\n",
       "  </tbody>\n",
       "</table>\n",
       "</div>"
      ],
      "text/plain": [
       "            index  angulo pico joelho  angulo pico quadril     base\n",
       "0   bipodal_1.csv          119.860080           139.310524  Bipodal\n",
       "1  bipodal_10.csv          120.259486           139.628018  Bipodal\n",
       "2   bipodal_2.csv          120.397792           140.156718  Bipodal\n",
       "3   bipodal_3.csv          120.165837           139.805063  Bipodal\n",
       "4   bipodal_4.csv          119.768892           140.085221  Bipodal"
      ]
     },
     "execution_count": 14,
     "metadata": {},
     "output_type": "execute_result"
    }
   ],
   "source": [
    "# importa os dados\n",
    "dados = pd.read_csv('./data/dados_agachamento_discretizado.csv')\n",
    "# mostra a estrutura dos dados\n",
    "dados.head()"
   ]
  },
  {
   "cell_type": "markdown",
   "id": "2fb084ee-9f70-4d97-84aa-8732fe661288",
   "metadata": {},
   "source": [
    "# Avalia diferenças entre bases"
   ]
  },
  {
   "cell_type": "code",
   "execution_count": 59,
   "id": "ee9f5abe-e3dd-40e7-8a4a-42bc604fd908",
   "metadata": {},
   "outputs": [
    {
     "name": "stdout",
     "output_type": "stream",
     "text": [
      "Unilateral: 90.13910150228226\n",
      "Bilateral: 119.99986540895517\n"
     ]
    },
    {
     "data": {
      "text/plain": [
       "TtestResult(statistic=-147.13085629261184, pvalue=3.4992387076732076e-29, df=18.0)"
      ]
     },
     "execution_count": 59,
     "metadata": {},
     "output_type": "execute_result"
    },
    {
     "data": {
      "image/png": "[encoded data removed]",
      "text/plain": [
       "<Figure size 300x500 with 1 Axes>"
      ]
     },
     "metadata": {},
     "output_type": "display_data"
    }
   ],
   "source": [
    "# cria um agrupador para facilitar as analises\n",
    "agrupador = dados.groupby('base')\n",
    "\n",
    "# recupera os vetores para analise\n",
    "vetor_uni = agrupador.get_group('Unipodal')['angulo pico joelho']\n",
    "vetor_bi = agrupador.get_group('Bipodal')['angulo pico joelho']\n",
    "\n",
    "# apresenta os dados\n",
    "print(f\"Unilateral: {vetor_uni.mean()}\")\n",
    "print(f\"Bilateral: {vetor_bi.mean()}\")\n",
    "\n",
    "\n",
    "# apresenta graficamente\n",
    "fig,ax = plt.subplots(1,1,figsize=(3,5),dpi=100)\n",
    "\n",
    "# insere os elementos graficos\n",
    "ax.plot(np.random.normal(0,0.05,len(vetor_uni)),vetor_uni,marker='o',lw=False)\n",
    "ax.plot(np.random.normal(1,0.05,len(vetor_bi)),vetor_bi,marker='o',lw=False)\n",
    "\n",
    "# ajusta esteticos\n",
    "ax.set_ylim(0,140)\n",
    "ax.set_xticks([0,1],['Unipodal','Bipodal'])\n",
    "ax.set_xlim(-0.5,1.5)\n",
    "ax.set_ylabel('Angulo')\n",
    "\n",
    "# faz um teste de hipotese\n",
    "stats.ttest_ind(vetor_uni,vetor_bi)"
   ]
  },
  {
   "cell_type": "code",
   "execution_count": null,
   "id": "cae31d4c-ff02-4807-a1b2-9d6695687d06",
   "metadata": {},
   "outputs": [],
   "source": []
  }
 ],
 "metadata": {
  "kernelspec": {
   "display_name": "Python [conda env:base] *",
   "language": "python",
   "name": "conda-base-py"
  },
  "language_info": {
   "codemirror_mode": {
    "name": "ipython",
    "version": 3
   },
   "file_extension": ".py",
   "mimetype": "text/x-python",
   "name": "python",
   "nbconvert_exporter": "python",
   "pygments_lexer": "ipython3",
   "version": "3.12.7"
  }
 },
 "nbformat": 4,
 "nbformat_minor": 5
}
