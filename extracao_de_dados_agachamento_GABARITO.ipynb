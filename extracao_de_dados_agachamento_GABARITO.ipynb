{
 "cells": [
  {
   "cell_type": "code",
   "execution_count": 1,
   "id": "75b02f6b-d93d-4e25-96b7-53c3d517c987",
   "metadata": {},
   "outputs": [],
   "source": [
    "import pandas as pd\n",
    "import matplotlib.pyplot as plt\n",
    "import os"
   ]
  },
  {
   "cell_type": "markdown",
   "id": "b0e1f3f6-222a-4dce-ab3b-a74043c47801",
   "metadata": {},
   "source": [
    "# Explora os sinais e define a função"
   ]
  },
  {
   "cell_type": "markdown",
   "id": "9f424e0a-1c24-479d-841a-9d52e7def68a",
   "metadata": {},
   "source": [
    "## explora os sinais "
   ]
  },
  {
   "cell_type": "code",
   "execution_count": 4,
   "id": "e7ff1dff-dcba-442f-935c-ae5d5798b960",
   "metadata": {},
   "outputs": [
    {
     "data": {
      "image/png": "[encoded data removed]",
      "text/plain": [
       "<Figure size 500x300 with 1 Axes>"
      ]
     },
     "metadata": {},
     "output_type": "display_data"
    }
   ],
   "source": [
    "# essa celula serve para explorar o sinal e definir as metricas a serem extraidas\n",
    "# le um sinal de exemplo\n",
    "sinal = pd.read_csv('./data/squat_data/bipodal/bipodal_1.csv')\n",
    "\n",
    "# cria figura para receber elementos graficos - a vantagem de criar figura e area de plotagem é definir parametros especificos\n",
    "# fig = plt.figure(dpi=300)\n",
    "# ax = plt.axes(projection='3d')\n",
    "# existe função que permite criar figura e eixos, com alguma personalização\n",
    "fig,ax = plt.subplots(1,1,figsize=(5,3),dpi=100)\n",
    "# a função plot é a mais generica para inclusão de linhas. É possivel usar etiquetas que podem alimentar uma legenda automatica \n",
    "ax.plot(sinal['Knee_Angle'],marker='.',label='Joelho')\n",
    "ax.plot(sinal['Hip_Angle'],marker='.',label='Quadril')\n",
    "ax.legend()\n",
    "# ajusta elementos de comunicação gráfica\n",
    "ax.set_xlabel('Amostras')\n",
    "ax.set_ylabel('Angulo')\n",
    "# extrai algumas informações\n",
    "# o pico do angulo de cada articulação\n",
    "angulo_pico_joelho = sinal['Knee_Angle'].max()\n",
    "angulo_pico_quadril = sinal['Hip_Angle'].max()\n",
    "# obtem o momento de ocorrencia do pico\n",
    "momento_pico_joelho = sinal['Knee_Angle'].argmax()\n",
    "momento_pico_quadril = sinal['Hip_Angle'].argmax()"
   ]
  },
  {
   "cell_type": "code",
   "execution_count": 5,
   "id": "ebf0c41c-19d4-46c2-b979-522fb3a4acbd",
   "metadata": {},
   "outputs": [],
   "source": [
    "# define a função - adiciona um parametro para controlar a exibição\n",
    "def extrair_dados_agachamento(sinal,exibir=False):\n",
    "    # o pico do angulo de cada articulação\n",
    "    angulo_pico_joelho = sinal['Knee_Angle'].max()\n",
    "    angulo_pico_quadril = sinal['Hip_Angle'].max()\n",
    "    # obtem o momento de ocorrencia do pico\n",
    "    momento_pico_joelho = sinal['Knee_Angle'].argmax()\n",
    "    momento_pico_quadril = sinal['Hip_Angle'].argmax()\n",
    "\n",
    "    if exibir:\n",
    "        # existe função que permite criar figura e eixos, com alguma personalização\n",
    "        fig,ax = plt.subplots(1,1,figsize=(5,3),dpi=100)\n",
    "        # a função plot é a mais generica para inclusão de linhas. É possivel usar etiquetas que podem alimentar uma legenda automatica \n",
    "        ax.plot(sinal['Knee_Angle'],marker='.',label='Joelho')\n",
    "        ax.plot(sinal['Hip_Angle'],marker='.',label='Quadril')\n",
    "        ax.legend()\n",
    "        # ajusta elementos de comunicação gráfica\n",
    "        ax.set_xlabel('Amostras')\n",
    "        ax.set_ylabel('Angulo')\n",
    "    \n",
    "    # retorna as informaçoes\n",
    "    return [angulo_pico_joelho, angulo_pico_quadril]"
   ]
  },
  {
   "cell_type": "code",
   "execution_count": 6,
   "id": "0909b3ee-21ba-480a-bd17-3127c10065cc",
   "metadata": {},
   "outputs": [
    {
     "data": {
      "text/plain": [
       "[119.86008042234457, 139.31052396849432]"
      ]
     },
     "execution_count": 6,
     "metadata": {},
     "output_type": "execute_result"
    }
   ],
   "source": [
    "# testa a função\n",
    "extrair_dados_agachamento(sinal)"
   ]
  },
  {
   "cell_type": "markdown",
   "id": "7ce6e762-e00b-4e30-9a60-67d4ed49f758",
   "metadata": {},
   "source": [
    "# Utiliza a função para extrair os dados"
   ]
  },
  {
   "cell_type": "code",
   "execution_count": 8,
   "id": "1ce67719-002b-47ab-8704-c2b0775c5ab3",
   "metadata": {},
   "outputs": [
    {
     "data": {
      "text/html": [
       "<div>\n",
       "<style scoped>\n",
       "    .dataframe tbody tr th:only-of-type {\n",
       "        vertical-align: middle;\n",
       "    }\n",
       "\n",
       "    .dataframe tbody tr th {\n",
       "        vertical-align: top;\n",
       "    }\n",
       "\n",
       "    .dataframe thead th {\n",
       "        text-align: right;\n",
       "    }\n",
       "</style>\n",
       "<table border=\"1\" class=\"dataframe\">\n",
       "  <thead>\n",
       "    <tr style=\"text-align: right;\">\n",
       "      <th></th>\n",
       "      <th>angulo pico joelho</th>\n",
       "      <th>angulo pico quadril</th>\n",
       "    </tr>\n",
       "  </thead>\n",
       "  <tbody>\n",
       "    <tr>\n",
       "      <th>bipodal_1.csv</th>\n",
       "      <td>119.860080</td>\n",
       "      <td>139.310524</td>\n",
       "    </tr>\n",
       "    <tr>\n",
       "      <th>bipodal_10.csv</th>\n",
       "      <td>120.259486</td>\n",
       "      <td>139.628018</td>\n",
       "    </tr>\n",
       "    <tr>\n",
       "      <th>bipodal_2.csv</th>\n",
       "      <td>120.397792</td>\n",
       "      <td>140.156718</td>\n",
       "    </tr>\n",
       "    <tr>\n",
       "      <th>bipodal_3.csv</th>\n",
       "      <td>120.165837</td>\n",
       "      <td>139.805063</td>\n",
       "    </tr>\n",
       "    <tr>\n",
       "      <th>bipodal_4.csv</th>\n",
       "      <td>119.768892</td>\n",
       "      <td>140.085221</td>\n",
       "    </tr>\n",
       "    <tr>\n",
       "      <th>bipodal_5.csv</th>\n",
       "      <td>120.292818</td>\n",
       "      <td>139.897577</td>\n",
       "    </tr>\n",
       "    <tr>\n",
       "      <th>bipodal_6.csv</th>\n",
       "      <td>119.927398</td>\n",
       "      <td>140.248756</td>\n",
       "    </tr>\n",
       "    <tr>\n",
       "      <th>bipodal_7.csv</th>\n",
       "      <td>118.788043</td>\n",
       "      <td>140.210983</td>\n",
       "    </tr>\n",
       "    <tr>\n",
       "      <th>bipodal_8.csv</th>\n",
       "      <td>120.362133</td>\n",
       "      <td>139.819478</td>\n",
       "    </tr>\n",
       "    <tr>\n",
       "      <th>bipodal_9.csv</th>\n",
       "      <td>120.176174</td>\n",
       "      <td>139.926160</td>\n",
       "    </tr>\n",
       "  </tbody>\n",
       "</table>\n",
       "</div>"
      ],
      "text/plain": [
       "                angulo pico joelho  angulo pico quadril\n",
       "bipodal_1.csv           119.860080           139.310524\n",
       "bipodal_10.csv          120.259486           139.628018\n",
       "bipodal_2.csv           120.397792           140.156718\n",
       "bipodal_3.csv           120.165837           139.805063\n",
       "bipodal_4.csv           119.768892           140.085221\n",
       "bipodal_5.csv           120.292818           139.897577\n",
       "bipodal_6.csv           119.927398           140.248756\n",
       "bipodal_7.csv           118.788043           140.210983\n",
       "bipodal_8.csv           120.362133           139.819478\n",
       "bipodal_9.csv           120.176174           139.926160"
      ]
     },
     "execution_count": 8,
     "metadata": {},
     "output_type": "execute_result"
    }
   ],
   "source": [
    "# define o diretorio que contem os dados dos testes bipodais\n",
    "diretorio_base = './data/squat_data/bipodal/'\n",
    "\n",
    "# cria uma estrutura para receber os dados\n",
    "dados_bipodal = pd.DataFrame(columns=['angulo pico joelho', 'angulo pico quadril'])\n",
    "\n",
    "# passa pelos arquivos no diretorio\n",
    "for file_name in (os.listdir(diretorio_base)):\n",
    "    # le cada arquivo\n",
    "    sinal = pd.read_csv(os.path.join(diretorio_base,file_name))\n",
    "    # aplica a função\n",
    "    medidas = extrair_dados_agachamento(sinal)\n",
    "    # insere nos dados\n",
    "    dados_bipodal.loc[file_name] = medidas\n",
    "\n",
    "# mostra os dados\n",
    "dados_bipodal"
   ]
  },
  {
   "cell_type": "code",
   "execution_count": 9,
   "id": "7d159c8f-055c-4359-8b28-627e4411f8d6",
   "metadata": {},
   "outputs": [
    {
     "data": {
      "text/html": [
       "<div>\n",
       "<style scoped>\n",
       "    .dataframe tbody tr th:only-of-type {\n",
       "        vertical-align: middle;\n",
       "    }\n",
       "\n",
       "    .dataframe tbody tr th {\n",
       "        vertical-align: top;\n",
       "    }\n",
       "\n",
       "    .dataframe thead th {\n",
       "        text-align: right;\n",
       "    }\n",
       "</style>\n",
       "<table border=\"1\" class=\"dataframe\">\n",
       "  <thead>\n",
       "    <tr style=\"text-align: right;\">\n",
       "      <th></th>\n",
       "      <th>angulo pico joelho</th>\n",
       "      <th>angulo pico quadril</th>\n",
       "    </tr>\n",
       "  </thead>\n",
       "  <tbody>\n",
       "    <tr>\n",
       "      <th>unipodal_1.csv</th>\n",
       "      <td>90.644585</td>\n",
       "      <td>110.314728</td>\n",
       "    </tr>\n",
       "    <tr>\n",
       "      <th>unipodal_10.csv</th>\n",
       "      <td>89.759062</td>\n",
       "      <td>110.363670</td>\n",
       "    </tr>\n",
       "    <tr>\n",
       "      <th>unipodal_2.csv</th>\n",
       "      <td>89.607784</td>\n",
       "      <td>110.059615</td>\n",
       "    </tr>\n",
       "    <tr>\n",
       "      <th>unipodal_3.csv</th>\n",
       "      <td>90.094590</td>\n",
       "      <td>110.181817</td>\n",
       "    </tr>\n",
       "    <tr>\n",
       "      <th>unipodal_4.csv</th>\n",
       "      <td>90.810356</td>\n",
       "      <td>110.454169</td>\n",
       "    </tr>\n",
       "    <tr>\n",
       "      <th>unipodal_5.csv</th>\n",
       "      <td>90.326886</td>\n",
       "      <td>110.276944</td>\n",
       "    </tr>\n",
       "    <tr>\n",
       "      <th>unipodal_6.csv</th>\n",
       "      <td>90.433387</td>\n",
       "      <td>110.203124</td>\n",
       "    </tr>\n",
       "    <tr>\n",
       "      <th>unipodal_7.csv</th>\n",
       "      <td>89.552872</td>\n",
       "      <td>111.259336</td>\n",
       "    </tr>\n",
       "    <tr>\n",
       "      <th>unipodal_8.csv</th>\n",
       "      <td>90.241805</td>\n",
       "      <td>109.790338</td>\n",
       "    </tr>\n",
       "    <tr>\n",
       "      <th>unipodal_9.csv</th>\n",
       "      <td>89.919688</td>\n",
       "      <td>109.835049</td>\n",
       "    </tr>\n",
       "  </tbody>\n",
       "</table>\n",
       "</div>"
      ],
      "text/plain": [
       "                 angulo pico joelho  angulo pico quadril\n",
       "unipodal_1.csv            90.644585           110.314728\n",
       "unipodal_10.csv           89.759062           110.363670\n",
       "unipodal_2.csv            89.607784           110.059615\n",
       "unipodal_3.csv            90.094590           110.181817\n",
       "unipodal_4.csv            90.810356           110.454169\n",
       "unipodal_5.csv            90.326886           110.276944\n",
       "unipodal_6.csv            90.433387           110.203124\n",
       "unipodal_7.csv            89.552872           111.259336\n",
       "unipodal_8.csv            90.241805           109.790338\n",
       "unipodal_9.csv            89.919688           109.835049"
      ]
     },
     "execution_count": 9,
     "metadata": {},
     "output_type": "execute_result"
    }
   ],
   "source": [
    "# repete os procedimentos com os dados unipodais\n",
    "diretorio_base = './data/squat_data/unipodal/'\n",
    "\n",
    "# cria uma estrutura para receber os dados\n",
    "dados_unipodal = pd.DataFrame(columns=['angulo pico joelho', 'angulo pico quadril'])\n",
    "\n",
    "# passa pelos arquivos no diretorio\n",
    "for file_name in (os.listdir(diretorio_base)):\n",
    "    # le cada arquivo\n",
    "    sinal = pd.read_csv(os.path.join(diretorio_base,file_name))\n",
    "    # aplica a função\n",
    "    medidas = extrair_dados_agachamento(sinal)\n",
    "    # insere nos dados\n",
    "    dados_unipodal.loc[file_name] = medidas\n",
    "\n",
    "# mostra os dados\n",
    "dados_unipodal"
   ]
  },
  {
   "cell_type": "code",
   "execution_count": 10,
   "id": "5e8e78b8-150d-4034-aea2-60812d5fed4e",
   "metadata": {},
   "outputs": [],
   "source": [
    "# identifica o fator apoio para unir os dados\n",
    "dados_bipodal['base'] = 'Bipodal'\n",
    "dados_unipodal['base'] = 'Unipodal'\n",
    "# junta e salva\n",
    "dados = pd.concat([dados_bipodal,dados_unipodal])\n",
    "# converte o indice em coluna\n",
    "dados = dados.reset_index()\n",
    "# salva para a analise\n",
    "dados.to_csv('./data/dados_agachamento_discretizado.csv',index=False)"
   ]
  },
  {
   "cell_type": "code",
   "execution_count": null,
   "id": "9fb0158d-1bf8-489d-a64c-6d3df50685a3",
   "metadata": {},
   "outputs": [],
   "source": []
  }
 ],
 "metadata": {
  "kernelspec": {
   "display_name": "Python [conda env:base] *",
   "language": "python",
   "name": "conda-base-py"
  },
  "language_info": {
   "codemirror_mode": {
    "name": "ipython",
    "version": 3
   },
   "file_extension": ".py",
   "mimetype": "text/x-python",
   "name": "python",
   "nbconvert_exporter": "python",
   "pygments_lexer": "ipython3",
   "version": "3.12.7"
  }
 },
 "nbformat": 4,
 "nbformat_minor": 5
}
